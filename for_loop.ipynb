{
  "nbformat": 4,
  "nbformat_minor": 0,
  "metadata": {
    "colab": {
      "provenance": []
    },
    "kernelspec": {
      "name": "python3",
      "display_name": "Python 3"
    },
    "language_info": {
      "name": "python"
    }
  },
  "cells": [
    {
      "cell_type": "markdown",
      "source": [
        "For Loop Programs\n"
      ],
      "metadata": {
        "id": "VEyIMK7o044m"
      }
    },
    {
      "cell_type": "code",
      "source": [
        "#To Print numbers from 1 to 10\n",
        "for i in range(1,11):\n",
        "  print(i , end=' ')"
      ],
      "metadata": {
        "colab": {
          "base_uri": "https://localhost:8080/"
        },
        "id": "pKHROR130-lC",
        "outputId": "72336e98-4b7f-4017-e94f-8afabf74adf9"
      },
      "execution_count": null,
      "outputs": [
        {
          "output_type": "stream",
          "name": "stdout",
          "text": [
            "1 2 3 4 5 6 7 8 9 10 "
          ]
        }
      ]
    },
    {
      "cell_type": "code",
      "source": [
        "#take a list\n",
        "list1 = [1,2,3,4]\n",
        "\n",
        "#take a variable to store the addition\n",
        "sum_of_n = 0\n",
        "\n",
        "for i in list1 :\n",
        "  sum_of_n += i\n",
        "\n",
        "#print the sum\n",
        "print(\"the sum : \",sum_of_n)\n",
        "\n"
      ],
      "metadata": {
        "colab": {
          "base_uri": "https://localhost:8080/"
        },
        "id": "uAjn6D8bDiiP",
        "outputId": "dbf31631-a328-4441-9bbb-63b0d2268317"
      },
      "execution_count": null,
      "outputs": [
        {
          "output_type": "stream",
          "name": "stdout",
          "text": [
            "the sum :  10\n"
          ]
        }
      ]
    },
    {
      "cell_type": "code",
      "source": [
        "#take a string\n",
        "string1 = \"pwskills\"\n",
        "\n",
        "#take a empty string\n",
        "reverse = \" \"\n",
        "\n",
        "for i in range(len(string1),0,-1):\n",
        "  reverse += string1[i-1]\n",
        "\n",
        "#print the reversed string\n",
        "print(\"the reversed string : \",reverse)"
      ],
      "metadata": {
        "colab": {
          "base_uri": "https://localhost:8080/"
        },
        "id": "a_2G9ZFuDqGf",
        "outputId": "59f29fc7-138e-4795-c993-9c22dedc2749"
      },
      "execution_count": null,
      "outputs": [
        {
          "output_type": "stream",
          "name": "stdout",
          "text": [
            "the reversed string :   sllikswp\n"
          ]
        }
      ]
    },
    {
      "cell_type": "code",
      "source": [
        "#create a function to find the factorial of a number using for loop\n",
        "def fact(n):\n",
        "\n",
        "  fact_result = 1\n",
        "\n",
        "  for i in range (1,n+1):\n",
        "    fact_result *= i\n",
        "\n",
        "  return fact_result\n",
        "\n",
        "num = int(input(\"enter the number : \"))\n",
        "\n",
        "if num < 0:\n",
        "  print(\" the factorial cannot be defined\")\n",
        "\n",
        "else:\n",
        "  result = fact(num)\n",
        "  print(f\"the facorial of {num} is : \",result)\n",
        "\n",
        "\n"
      ],
      "metadata": {
        "colab": {
          "base_uri": "https://localhost:8080/"
        },
        "id": "DVkMU5aAHOAR",
        "outputId": "cb8daa8d-00e7-4dc9-e28d-4c3cc61c0757"
      },
      "execution_count": null,
      "outputs": [
        {
          "output_type": "stream",
          "name": "stdout",
          "text": [
            "enter the number : 5\n",
            "the facorial of 5 is :  120\n"
          ]
        }
      ]
    },
    {
      "cell_type": "code",
      "source": [
        "num = int(input(\"enter the number : \"))\n",
        "\n",
        "if num < 0:\n",
        "  print(\"the multiplication table cannot be defined\")\n",
        "\n",
        "else:\n",
        "  for i in range(1,11):\n",
        "    result = num * i\n",
        "    print(result)"
      ],
      "metadata": {
        "colab": {
          "base_uri": "https://localhost:8080/"
        },
        "id": "H9hzTHx6JS6N",
        "outputId": "0ad9c15c-9778-4d19-e685-a220aad97731"
      },
      "execution_count": null,
      "outputs": [
        {
          "output_type": "stream",
          "name": "stdout",
          "text": [
            "enter the number : 19\n",
            "19\n",
            "38\n",
            "57\n",
            "76\n",
            "95\n",
            "114\n",
            "133\n",
            "152\n",
            "171\n",
            "190\n"
          ]
        }
      ]
    },
    {
      "cell_type": "code",
      "source": [
        "#take a list\n",
        "list1 = [1,2,3,4,5,6,7,8,9,10]\n",
        "\n",
        "odd_count = 0\n",
        "even_count = 0\n",
        "\n",
        "for n in list1:\n",
        "\n",
        "  if n % 2 == 0:\n",
        "    even_count += 1\n",
        "\n",
        "  else :\n",
        "    odd_count += 1\n",
        "\n",
        "#print the even numbers\n",
        "print(\" the number of even numbers in the list : \",even_count)\n",
        "\n",
        "#print the odd numbers\n",
        "print(\" the number of odd numbers in the list : \",odd_count)\n",
        "\n"
      ],
      "metadata": {
        "colab": {
          "base_uri": "https://localhost:8080/"
        },
        "id": "R2dAKOz6K3jl",
        "outputId": "34d47477-ca9c-4eb7-a161-03c923560023"
      },
      "execution_count": null,
      "outputs": [
        {
          "output_type": "stream",
          "name": "stdout",
          "text": [
            " the number of even numbers in the list :  5\n",
            " the number of odd numbers in the list :  5\n"
          ]
        }
      ]
    },
    {
      "cell_type": "code",
      "source": [
        "#take a variable\n",
        "num = 0\n",
        "\n",
        "for i in range(1,6):\n",
        "  num = i * i\n",
        "  #print the squares\n",
        "  print(num)"
      ],
      "metadata": {
        "colab": {
          "base_uri": "https://localhost:8080/"
        },
        "id": "KbpQ_lHpMTe9",
        "outputId": "6ae28112-7a2c-4e9c-e92b-1835af6db663"
      },
      "execution_count": null,
      "outputs": [
        {
          "output_type": "stream",
          "name": "stdout",
          "text": [
            "1\n",
            "4\n",
            "9\n",
            "16\n",
            "25\n"
          ]
        }
      ]
    },
    {
      "cell_type": "code",
      "source": [
        "#take a string\n",
        "string1 = \"pwskills\"\n",
        "\n",
        "count = 0\n",
        "\n",
        "for _ in range(len(string1)):\n",
        "  count += 1\n",
        "\n",
        "#print the length of string\n",
        "print(\"the length of the string : \",count)"
      ],
      "metadata": {
        "colab": {
          "base_uri": "https://localhost:8080/"
        },
        "id": "a2fEPWUSM68J",
        "outputId": "855df6cc-874b-45d5-c8f3-04b5034f8f60"
      },
      "execution_count": null,
      "outputs": [
        {
          "output_type": "stream",
          "name": "stdout",
          "text": [
            "the length of the string :  8\n"
          ]
        }
      ]
    },
    {
      "cell_type": "code",
      "source": [
        "#take a list\n",
        "list1 = [12,34,56,78,90]\n",
        "\n",
        "sum_of_n = 0\n",
        "count_of_n = 0\n",
        "\n",
        "for n in list1 :\n",
        "  sum_of_n += n\n",
        "  count_of_n +=1\n",
        "\n",
        "#find the average\n",
        "average = sum_of_n / count_of_n\n",
        "\n",
        "#print the average of list\n",
        "print(\"the average of list is : \",average)"
      ],
      "metadata": {
        "colab": {
          "base_uri": "https://localhost:8080/"
        },
        "id": "RgIqQ7ySOEIq",
        "outputId": "638dea13-11ef-408c-f459-e5b9d707cd24"
      },
      "execution_count": null,
      "outputs": [
        {
          "output_type": "stream",
          "name": "stdout",
          "text": [
            "the average of list is :  54.0\n"
          ]
        }
      ]
    },
    {
      "cell_type": "code",
      "source": [
        "def fibo(n):\n",
        "  fibo_n = [0,1]\n",
        "\n",
        "  for i in range(2,n):\n",
        "    nx_fibo = fibo_n[-1] + fibo_n[-2]\n",
        "    fibo_n.append(nx_fibo)\n",
        "\n",
        "  return fibo_n\n",
        "\n",
        "num = int(input(\"enter the number : \"))\n",
        "\n",
        "fibo_seq = fibo(num)\n",
        "\n",
        "print(f\"the fibonacci sequence of first {n} number : \",fibo_seq)"
      ],
      "metadata": {
        "colab": {
          "base_uri": "https://localhost:8080/"
        },
        "id": "cUle50W8Pex_",
        "outputId": "b4bf94de-7a0e-41f6-b2c9-1869c87b8fa1"
      },
      "execution_count": null,
      "outputs": [
        {
          "output_type": "stream",
          "name": "stdout",
          "text": [
            "enter the number : 12\n",
            "the fibonacci sequence of first 90 number :  [0, 1, 1, 2, 3, 5, 8, 13, 21, 34, 55, 89]\n"
          ]
        }
      ]
    },
    {
      "cell_type": "code",
      "source": [
        "def copy(list1):\n",
        "\n",
        "  seen = set()\n",
        "\n",
        "  for item in list1:\n",
        "    if item in seen:\n",
        "      return True\n",
        "\n",
        "    seen.add(item)\n",
        "\n",
        "  return False\n",
        "\n",
        "list2 = [1,2,3,4,3,2,1,5,6,7,8,8,9]\n",
        "\n",
        "if copy(list2):\n",
        "  print(\"there are duplicates in the list\")\n",
        "\n",
        "else:\n",
        "  print(\"there are no duplicates in the list\")"
      ],
      "metadata": {
        "colab": {
          "base_uri": "https://localhost:8080/"
        },
        "id": "PyXwZfGaShCS",
        "outputId": "384e499d-e320-4976-a51f-f31939e90c6f"
      },
      "execution_count": null,
      "outputs": [
        {
          "output_type": "stream",
          "name": "stdout",
          "text": [
            "there are duplicates in the list\n"
          ]
        }
      ]
    },
    {
      "cell_type": "code",
      "source": [
        "def prime(n):\n",
        "\n",
        "  if n < 2:\n",
        "    return False\n",
        "\n",
        "  for i in range(2,int(n**0.5)+1):\n",
        "    if n % i == 0:\n",
        "      return False\n",
        "\n",
        "  return True\n",
        "\n",
        "start = int(input(\"enter the starting range : \"))\n",
        "end = int(input(\"enter the ending range : \"))\n",
        "\n",
        "print(\"the prime numbers in the range are : \")\n",
        "\n",
        "for num in range(start ,end+1):\n",
        "  if prime(num):\n",
        "    print(num,end=' ')\n"
      ],
      "metadata": {
        "colab": {
          "base_uri": "https://localhost:8080/"
        },
        "id": "TP84ixq0TUpD",
        "outputId": "2d04c398-a6d5-499f-d71b-c818a4a01fbd"
      },
      "execution_count": null,
      "outputs": [
        {
          "output_type": "stream",
          "name": "stdout",
          "text": [
            "enter the starting range : 12\n",
            "enter the ending range : 45\n",
            "the prime numbers in the range are : \n",
            "13 17 19 23 29 31 37 41 43 "
          ]
        }
      ]
    },
    {
      "cell_type": "code",
      "source": [
        "def vowel(string1):\n",
        "  vowels = \"aeiouAEIOU\"\n",
        "  count = 0\n",
        "\n",
        "  for char in string1:\n",
        "    if char in vowels:\n",
        "      count +=1\n",
        "  return count\n",
        "\n",
        "string2 = str(input(\"enter a string : \"))\n",
        "\n",
        "v_count = vowel(string2)\n",
        "\n",
        "print(\"the number of vowels in the string are : \",v_count)"
      ],
      "metadata": {
        "colab": {
          "base_uri": "https://localhost:8080/"
        },
        "id": "QfH-9vbggnC4",
        "outputId": "878eb3e5-7491-4a4c-9fd4-f17c0c67b704"
      },
      "execution_count": null,
      "outputs": [
        {
          "output_type": "stream",
          "name": "stdout",
          "text": [
            "enter a string : we can do the same\n",
            "the number of vowels in the string are :  6\n"
          ]
        }
      ]
    },
    {
      "cell_type": "code",
      "source": [
        "def max(matrix):\n",
        "  if not matrix or not matrix[0]:\n",
        "    return None\n",
        "\n",
        "  max_e = matrix[0][0]\n",
        "\n",
        "  for row in matrix:\n",
        "    for element in row:\n",
        "      if element > max_e:\n",
        "        max_e = element\n",
        "\n",
        "  return max_e\n",
        "\n",
        "list1 = [[1,2,3],[4,5,6],[7,8,9]]\n",
        "\n",
        "max_ele = max(list1)\n",
        "\n",
        "print(\"the maximum element in the 2D list is : \",max_ele)"
      ],
      "metadata": {
        "colab": {
          "base_uri": "https://localhost:8080/"
        },
        "id": "3NRPzW82i27G",
        "outputId": "aa4ee2ef-7544-4cc6-dbca-bcf1ebdd72c6"
      },
      "execution_count": null,
      "outputs": [
        {
          "output_type": "stream",
          "name": "stdout",
          "text": [
            "the maximum element in the 2D list is :  9\n"
          ]
        }
      ]
    },
    {
      "cell_type": "code",
      "source": [
        "def rev(lst,target):\n",
        "  for item in lst[:]:\n",
        "    if item == target:\n",
        "      lst.remove(item)\n",
        "\n",
        "list1 = [1,2,3,4,5,6,7,89,77,5,45,4,3,2,1,1]\n",
        "target = int(input(\"enter the element you want to remove : \"))\n",
        "\n",
        "rev(list1,target)\n",
        "print(f\"the list after removing the targeted element {target} : \",list1)\n"
      ],
      "metadata": {
        "colab": {
          "base_uri": "https://localhost:8080/"
        },
        "id": "jv83WQ4ikUPs",
        "outputId": "80336216-1f8e-47a3-8a7c-55f880297230"
      },
      "execution_count": null,
      "outputs": [
        {
          "output_type": "stream",
          "name": "stdout",
          "text": [
            "enter the element you want to remove : 1\n",
            "the list after removing the targeted element 1 :  [2, 3, 4, 5, 6, 7, 89, 77, 5, 45, 4, 3, 2]\n"
          ]
        }
      ]
    },
    {
      "cell_type": "code",
      "source": [
        "print(\"the tables from 1 to 5 : \\n\")\n",
        "for i in range(1,6):\n",
        "\n",
        "  for j in range(1,11):\n",
        "    result = i * j\n",
        "    print(result,end=' ')\n",
        "\n",
        "  print()\n",
        "\n",
        "  print()"
      ],
      "metadata": {
        "colab": {
          "base_uri": "https://localhost:8080/"
        },
        "id": "ePt3XRqMnEXV",
        "outputId": "7f0c3f8b-e26e-4e4d-9a05-ef33c8c82358"
      },
      "execution_count": null,
      "outputs": [
        {
          "output_type": "stream",
          "name": "stdout",
          "text": [
            "the tables from 1 to 5 : \n",
            "\n",
            "1 2 3 4 5 6 7 8 9 10 \n",
            "\n",
            "2 4 6 8 10 12 14 16 18 20 \n",
            "\n",
            "3 6 9 12 15 18 21 24 27 30 \n",
            "\n",
            "4 8 12 16 20 24 28 32 36 40 \n",
            "\n",
            "5 10 15 20 25 30 35 40 45 50 \n",
            "\n"
          ]
        }
      ]
    },
    {
      "cell_type": "code",
      "source": [
        "def cel(fahrenheit):\n",
        "  return (fahrenheit - 32)* 5 / 9\n",
        "\n",
        "temp = [98,104,101,96,100]\n",
        "\n",
        "print(\"the temperature after converting to celcius : \\n\")\n",
        "for fahrenheit in temp :\n",
        "  celcius = cel(fahrenheit)\n",
        "  print(celcius)"
      ],
      "metadata": {
        "colab": {
          "base_uri": "https://localhost:8080/"
        },
        "id": "y2OQcaRSpA80",
        "outputId": "bf6035dd-f5cf-4320-d8b7-23c2e5c13f0b"
      },
      "execution_count": null,
      "outputs": [
        {
          "output_type": "stream",
          "name": "stdout",
          "text": [
            "the temperature after converting to celcius : \n",
            "\n",
            "36.666666666666664\n",
            "40.0\n",
            "38.333333333333336\n",
            "35.55555555555556\n",
            "37.77777777777778\n"
          ]
        }
      ]
    },
    {
      "cell_type": "code",
      "source": [
        "def common(list1,list2):\n",
        "  common_elements = []\n",
        "\n",
        "  for elements in list1:\n",
        "    if elements in list2 and elements not in common_elements:\n",
        "      common_elements.append(elements)\n",
        "\n",
        "  return common_elements\n",
        "\n",
        "list1 = [1,2,3,5,7,9,0]\n",
        "list2 = [9,7,5,3,1,3,4]\n",
        "\n",
        "common_elements = common(list1,list2)\n",
        "\n",
        "if common_elements:\n",
        "  print(\"common elements : \",common_elements)\n",
        "\n",
        "else:\n",
        "  print(\"there are no common elements present in lists\")\n"
      ],
      "metadata": {
        "colab": {
          "base_uri": "https://localhost:8080/"
        },
        "id": "aHxTaJUCr-EW",
        "outputId": "0d900e86-f862-4b30-f8cf-50a327a28713"
      },
      "execution_count": null,
      "outputs": [
        {
          "output_type": "stream",
          "name": "stdout",
          "text": [
            "common elements :  [1, 3, 5, 7, 9]\n"
          ]
        }
      ]
    },
    {
      "cell_type": "code",
      "source": [
        "def right_tri(rows):\n",
        "    for i in range(1, rows + 1):\n",
        "        for j in range(1, i + 1):\n",
        "            print(\"*\", end=' ')\n",
        "        print()\n",
        "\n",
        "rows = int(input(\"Enter the number of rows: \"))\n",
        "right_tri(rows)\n"
      ],
      "metadata": {
        "colab": {
          "base_uri": "https://localhost:8080/"
        },
        "id": "dr5vgc5hvcUl",
        "outputId": "1770560a-97d3-4b4a-c440-faa3a012febf"
      },
      "execution_count": null,
      "outputs": [
        {
          "output_type": "stream",
          "name": "stdout",
          "text": [
            "Enter the number of rows: 7\n",
            "* \n",
            "* * \n",
            "* * * \n",
            "* * * * \n",
            "* * * * * \n",
            "* * * * * * \n",
            "* * * * * * * \n"
          ]
        }
      ]
    },
    {
      "cell_type": "code",
      "source": [
        "def f_gcd(a,b):\n",
        "\n",
        "  gcd = 1\n",
        "\n",
        "  for i in range(1,min(a,b)+1):\n",
        "    if a % i == 0 and b % i == 0:\n",
        "      gcd = i\n",
        "\n",
        "  return gcd\n",
        "\n",
        "num1 = int(input(\"enter the first number : \"))\n",
        "num2 = int(input(\"enter the second number : \"))\n",
        "\n",
        "result = f_gcd(num1,num2)\n",
        "\n",
        "print(f\"the greatest common divisor of {num1} and {num2} is {result}\")\n",
        "\n"
      ],
      "metadata": {
        "colab": {
          "base_uri": "https://localhost:8080/"
        },
        "id": "BStJXrMAwz8w",
        "outputId": "f16e962a-8f33-4d9c-c2c1-568fb6bbe5d6"
      },
      "execution_count": null,
      "outputs": [
        {
          "output_type": "stream",
          "name": "stdout",
          "text": [
            "enter the first number : 48\n",
            "enter the second number : 36\n",
            "the greatest common divisor of 48 and 36 is 12\n"
          ]
        }
      ]
    },
    {
      "cell_type": "code",
      "source": [
        "def sumed(number):\n",
        "  return sum(int(digit) for digit in str(number) if digit.isdigit())\n",
        "\n",
        "n = [143,346,789,176,432]\n",
        "\n",
        "sum_of_digit = [sumed(num) for num in n]\n",
        "\n",
        "for i in range(len(n)):\n",
        "  print(f\" sum of digits in {n[i]} : {sum_of_digit[i]}\")"
      ],
      "metadata": {
        "colab": {
          "base_uri": "https://localhost:8080/"
        },
        "id": "a_4mifuO8kXG",
        "outputId": "1cc6d69b-4c42-4b32-986f-1b0660d4d045"
      },
      "execution_count": null,
      "outputs": [
        {
          "output_type": "stream",
          "name": "stdout",
          "text": [
            " sum of digits in 143 : 8\n",
            " sum of digits in 346 : 13\n",
            " sum of digits in 789 : 24\n",
            " sum of digits in 176 : 14\n",
            " sum of digits in 432 : 9\n"
          ]
        }
      ]
    },
    {
      "cell_type": "code",
      "source": [
        "def prime(num):\n",
        "\n",
        "  if num < 2 :\n",
        "    return False\n",
        "\n",
        "  for i in range(2,int(num ** 0.5) + 1):\n",
        "    return False\n",
        "\n",
        "  return True\n",
        "\n",
        "\n",
        "def prime_fact(n):\n",
        "  factors = [i for i in range(2,n+1) if prime(i) and n % i == 0]\n",
        "  return factors\n",
        "\n",
        "number = int(input(\"enter a number : \"))\n",
        "\n",
        "factors  = prime_fact(number)\n",
        "\n",
        "print(f\"the prime factor of {number} : {factors}\")\n"
      ],
      "metadata": {
        "colab": {
          "base_uri": "https://localhost:8080/"
        },
        "id": "dCObBz0E-h-a",
        "outputId": "faebeba0-e4df-4303-f6e6-98529bf15a7f"
      },
      "execution_count": null,
      "outputs": [
        {
          "output_type": "stream",
          "name": "stdout",
          "text": [
            "enter a number : 12\n",
            "the prime factor of 12 : [2, 3]\n"
          ]
        }
      ]
    },
    {
      "cell_type": "code",
      "source": [
        "list1 = [1,2,3,4,3,4,5,6,7,9,3,6,1,5,4]\n",
        "\n",
        "u_list= list(set(list1))\n",
        "\n",
        "print(\"the list of unique elements : \",u_list)"
      ],
      "metadata": {
        "colab": {
          "base_uri": "https://localhost:8080/"
        },
        "id": "XMqzV48KAdvw",
        "outputId": "34fd996b-88b7-44fa-b581-6b427892d5f1"
      },
      "execution_count": null,
      "outputs": [
        {
          "output_type": "stream",
          "name": "stdout",
          "text": [
            "the list of unique elements :  [1, 2, 3, 4, 5, 6, 7, 9]\n"
          ]
        }
      ]
    },
    {
      "cell_type": "code",
      "source": [
        "def palindromic(num):\n",
        "  return str(num) == str(num)[::-1]\n",
        "\n",
        "limit = int(input(\"enter the limit : \"))\n",
        "\n",
        "p_num = [num for num in range(11,limit + 1) if palindromic(num)]\n",
        "\n",
        "print(f\"palindromic numbers upto {limit} : {p_num}\")"
      ],
      "metadata": {
        "colab": {
          "base_uri": "https://localhost:8080/"
        },
        "id": "s_uJS7gQBNDB",
        "outputId": "6958e2c4-bb72-4dcf-f1d4-e0e4e83844da"
      },
      "execution_count": null,
      "outputs": [
        {
          "output_type": "stream",
          "name": "stdout",
          "text": [
            "enter the limit : 200\n",
            "palindromic numbers upto 200 : [11, 22, 33, 44, 55, 66, 77, 88, 99, 101, 111, 121, 131, 141, 151, 161, 171, 181, 191]\n"
          ]
        }
      ]
    },
    {
      "cell_type": "code",
      "source": [
        "def flattened_list(nested_list):\n",
        "  flattened = []\n",
        "\n",
        "  def flattened_recursive(sublist):\n",
        "    for item in sublist:\n",
        "\n",
        "      if isinstance(item,list):\n",
        "        flattened_recursive(item)\n",
        "\n",
        "      else:\n",
        "        flattened.append(item)\n",
        "\n",
        "  flattened_recursive(nested_list)\n",
        "  return flattened\n",
        "\n",
        "nested_list = [1, [2, 3, [4, 5]], 6, [7, 8]]\n",
        "\n",
        "flat_list = flattened_list(nested_list)\n",
        "\n",
        "print(\"the flattened list : \",flat_list)\n"
      ],
      "metadata": {
        "colab": {
          "base_uri": "https://localhost:8080/"
        },
        "id": "jT8HqKEEDGcT",
        "outputId": "5cd5bf06-5a59-483a-f581-fb0fcd769404"
      },
      "execution_count": null,
      "outputs": [
        {
          "output_type": "stream",
          "name": "stdout",
          "text": [
            "the flattened list :  [1, 2, 3, 4, 5, 6, 7, 8]\n"
          ]
        }
      ]
    },
    {
      "cell_type": "code",
      "source": [
        "list1 = [1,2,3,4,5,6,7,8,9,10]\n",
        "\n",
        "even_no = [num for num in list1 if num % 2 == 0]\n",
        "odd_no = [num for num in list1 if num % 2 != 0]\n",
        "\n",
        "sum_even = sum(even_no)\n",
        "sum_odd = sum(odd_no)\n",
        "\n",
        "print(\"the sum of even numbers : \",sum_even,\"\\n\")\n",
        "print(\"the sum of odd numbers : \",sum_odd)\n",
        "\n"
      ],
      "metadata": {
        "colab": {
          "base_uri": "https://localhost:8080/"
        },
        "id": "JCeqptQKF5VH",
        "outputId": "9cef29da-29bb-405d-ca89-0b54a810a36c"
      },
      "execution_count": null,
      "outputs": [
        {
          "output_type": "stream",
          "name": "stdout",
          "text": [
            "the sum of even numbers :  30 \n",
            "\n",
            "the sum of odd numbers :  25\n"
          ]
        }
      ]
    },
    {
      "cell_type": "code",
      "source": [
        "sq_odd = [num **2 for num in range(1,11) if num % 2 != 0]\n",
        "\n",
        "print(\"the square of odd number from 1 to 10 : \",sq_odd )"
      ],
      "metadata": {
        "colab": {
          "base_uri": "https://localhost:8080/"
        },
        "id": "4zbAakRtGvZA",
        "outputId": "8efce0cf-7b57-4923-8f13-b0be40e37daf"
      },
      "execution_count": null,
      "outputs": [
        {
          "output_type": "stream",
          "name": "stdout",
          "text": [
            "the square of odd number from 1 to 10 :  [1, 9, 25, 49, 81]\n"
          ]
        }
      ]
    },
    {
      "cell_type": "code",
      "source": [
        "keys = [\"name\",\"age\",\"city\"]\n",
        "values = [\"harsh\",\"20\",\"amravati\"]\n",
        "\n",
        "c_dict = { keys[i] : values[i] for i in range(min(len(keys),len(values)))}\\\n",
        "\n",
        "print(\"the combined dictionary : \",c_dict)"
      ],
      "metadata": {
        "colab": {
          "base_uri": "https://localhost:8080/"
        },
        "id": "dFIsN0DAJVyq",
        "outputId": "c55a1fb9-b9fb-43d6-c6b0-50e9858f0693"
      },
      "execution_count": null,
      "outputs": [
        {
          "output_type": "stream",
          "name": "stdout",
          "text": [
            "the combined dictionary :  {'name': 'harsh', 'age': '20', 'city': 'amravati'}\n"
          ]
        }
      ]
    },
    {
      "cell_type": "code",
      "source": [
        "string1 = \"Hello World!!!\"\n",
        "\n",
        "vowels = [ char.lower() for char in string1 if char.lower() in \"aeiouAEIOU\"]\n",
        "\n",
        "print(\"the vowels present in the string : \",vowels)"
      ],
      "metadata": {
        "colab": {
          "base_uri": "https://localhost:8080/"
        },
        "id": "LXWqNJRHKX7r",
        "outputId": "41d1dbe0-82ed-47cd-f054-459ad0b768c1"
      },
      "execution_count": null,
      "outputs": [
        {
          "output_type": "stream",
          "name": "stdout",
          "text": [
            "the vowels present in the string :  ['e', 'o', 'o']\n"
          ]
        }
      ]
    },
    {
      "cell_type": "code",
      "source": [
        "str_list = [\"123\" , \"vaibhav23\",\"harsh65\",\"op9\",\"onepiece1088\"]\n",
        "\n",
        "num_string = [' '.join(char for char in string if char.isdigit()) for string in str_list]\n",
        "\n",
        "print(\"numeric string : \",num_string)"
      ],
      "metadata": {
        "colab": {
          "base_uri": "https://localhost:8080/"
        },
        "id": "6MikSqJULDUs",
        "outputId": "374325ed-2a94-4fb3-bb23-2d2ea5d45b0f"
      },
      "execution_count": null,
      "outputs": [
        {
          "output_type": "stream",
          "name": "stdout",
          "text": [
            "numeric string :  ['1 2 3', '2 3', '6 5', '9', '1 0 8 8']\n"
          ]
        }
      ]
    },
    {
      "cell_type": "code",
      "source": [
        "def sieve(n):\n",
        "  is_prime = [True] * (n + 1)\n",
        "\n",
        "  is_prime[0] = is_prime[1] = False\n",
        "\n",
        "  for p in range( 2, int(n ** 0.5) + 1):\n",
        "\n",
        "    if is_prime[p]:\n",
        "\n",
        "      is_prime[ p ** 2 : n + 1 : p] = [False] * len(range( p ** 2 , n + 1 , p))\n",
        "\n",
        "  primes = [ num for num  in range(2, n + 1) if is_prime[num]]\n",
        "\n",
        "  return primes\n",
        "\n",
        "limit = int(input(\" enter the limit : \"))\n",
        "\n",
        "prime_nos = sieve(limit)\n",
        "\n",
        "print(f\"the primes numbers upto {limit} : {prime_nos}\")\n"
      ],
      "metadata": {
        "colab": {
          "base_uri": "https://localhost:8080/"
        },
        "id": "qUwv-c6HMBlp",
        "outputId": "014d57c4-93be-47c0-c34d-b993061464b9"
      },
      "execution_count": null,
      "outputs": [
        {
          "output_type": "stream",
          "name": "stdout",
          "text": [
            " enter the limit : 30\n",
            "the primes numbers upto 30 : [2, 3, 5, 7, 11, 13, 17, 19, 23, 29]\n"
          ]
        }
      ]
    },
    {
      "cell_type": "code",
      "source": [
        "def pyt_tri(limit):\n",
        "\n",
        "  triplets = [(a,b,c) for a in range(1 , limit ) for b in range( a , limit) for c in range( b , limit) if a**2 + b**2 == c**2]\n",
        "\n",
        "  u_triplets = set(tuple(sorted(triplet)) for triplet in triplets)\n",
        "\n",
        "  u_list = list(u_triplets)\n",
        "\n",
        "  return u_list\n",
        "\n",
        "limit = int(input(\"enter the limit for pythagorean triplets : \"))\n",
        "\n",
        "triplets = pyt_tri(limit)\n",
        "\n",
        "print(f\"the pythagorean triplets upto {limit} : {triplets}\")"
      ],
      "metadata": {
        "colab": {
          "base_uri": "https://localhost:8080/"
        },
        "id": "o7NnULTwEcUi",
        "outputId": "6601072b-7efc-4687-9408-0623c5f6eedc"
      },
      "execution_count": null,
      "outputs": [
        {
          "output_type": "stream",
          "name": "stdout",
          "text": [
            "enter the limit for pythagorean triplets : 20\n",
            "the pythagorean triplets upto 20 : [(6, 8, 10), (3, 4, 5), (8, 15, 17), (9, 12, 15), (5, 12, 13)]\n"
          ]
        }
      ]
    },
    {
      "cell_type": "code",
      "source": [
        "def combo(list1,list2):\n",
        "\n",
        "  combinations = [(item1 ,item2) for item1 in list1 for item2 in list2]\n",
        "\n",
        "  return combinations\n",
        "\n",
        "list1 = [1,2,3]\n",
        "list2 = [\"a\",\"b\",\"c\"]\n",
        "\n",
        "all_combo = combo(list1,list2)\n",
        "\n",
        "print(\"all combinations : \")\n",
        "\n",
        "for combination in all_combo :\n",
        "  print(combination ,end=\" \")"
      ],
      "metadata": {
        "colab": {
          "base_uri": "https://localhost:8080/"
        },
        "id": "H5AFXvDBGw-3",
        "outputId": "e2572cae-ca9e-4c70-d37e-4c7cb1d870aa"
      },
      "execution_count": null,
      "outputs": [
        {
          "output_type": "stream",
          "name": "stdout",
          "text": [
            "all combinations : \n",
            "(1, 'a') (1, 'b') (1, 'c') (2, 'a') (2, 'b') (2, 'c') (3, 'a') (3, 'b') (3, 'c') "
          ]
        }
      ]
    },
    {
      "cell_type": "code",
      "source": [
        "from statistics import mean , mode , median\n",
        "\n",
        "def mmm(number):\n",
        "  mean_value = mean(number)\n",
        "\n",
        "  mode_value = mode(number)\n",
        "\n",
        "  median_value = median(number)\n",
        "\n",
        "  return mean_value , mode_value , median_value\n",
        "\n",
        "numbers = [7,6,4,1,2,3,9,8,7,5,3,2,1]\n",
        "\n",
        "mean_result , mode_result , median_result = mmm(numbers)\n",
        "\n",
        "print(\"Mean : \",mean_result)\n",
        "print(\"Mode : \",mode_result)\n",
        "print(\"Median : \",median_result)"
      ],
      "metadata": {
        "colab": {
          "base_uri": "https://localhost:8080/"
        },
        "id": "ysbgXc1aIBGG",
        "outputId": "240ff086-cf1b-4faf-ce96-2cf6af9866e7"
      },
      "execution_count": null,
      "outputs": [
        {
          "output_type": "stream",
          "name": "stdout",
          "text": [
            "Mean :  4.461538461538462\n",
            "Mode :  7\n",
            "Median :  4\n"
          ]
        }
      ]
    },
    {
      "cell_type": "code",
      "source": [
        "def pascal_tri(num_rows):\n",
        "  triangle = [ [1] * (i+1) for i in range(num_rows)]\n",
        "\n",
        "  for i in range(num_rows):\n",
        "\n",
        "    for j in range(1,i):\n",
        "\n",
        "      triangle[i][j] = triangle[i-1][j-1] + triangle[i -1][j]\n",
        "\n",
        "  return triangle\n",
        "\n",
        "num_rows = int(input(\"enter the number of rows for the pascal triangle : \"))\n",
        "\n",
        "p_tri = pascal_tri(num_rows)\n",
        "\n",
        "for row in p_tri :\n",
        "  print(\" \".join(map(str,row)))"
      ],
      "metadata": {
        "colab": {
          "base_uri": "https://localhost:8080/"
        },
        "id": "Kmyf8fK5JHSe",
        "outputId": "4ae3c26b-e835-4282-efe8-a67b32d755d4"
      },
      "execution_count": null,
      "outputs": [
        {
          "output_type": "stream",
          "name": "stdout",
          "text": [
            "enter the number of rows for the pascal triangle : 5\n",
            "1\n",
            "1 1\n",
            "1 2 1\n",
            "1 3 3 1\n",
            "1 4 6 4 1\n"
          ]
        }
      ]
    },
    {
      "cell_type": "code",
      "source": [
        "from math import factorial\n",
        "\n",
        "def fact_sum(start ,end):\n",
        "\n",
        "  sum_of_digits = [sum(int(digit) for digit in str(factorial(i))) for i in range(start ,end + 1)]\n",
        "\n",
        "  return sum_of_digits\n",
        "\n",
        "start = int(input(\" enter the starting range : \"))\n",
        "end = int(input(\" enter the ending range : \"))\n",
        "\n",
        "result = fact_sum(start,end)\n",
        "\n",
        "for i ,value in enumerate( result , start = start):\n",
        "  print(f\"sum of digit of {i}! is : {result} \")"
      ],
      "metadata": {
        "colab": {
          "base_uri": "https://localhost:8080/"
        },
        "id": "IJGe2nCIPPp_",
        "outputId": "4cabe812-1c24-4dfc-dc0c-ece198428f04"
      },
      "execution_count": null,
      "outputs": [
        {
          "output_type": "stream",
          "name": "stdout",
          "text": [
            " enter the starting range : 12\n",
            " enter the ending range : 34\n",
            "sum of digit of 12! is : [27, 27, 45, 45, 63, 63, 54, 45, 54, 63, 72, 99, 81, 72, 81, 108, 90, 126, 117, 135, 108, 144, 144] \n",
            "sum of digit of 13! is : [27, 27, 45, 45, 63, 63, 54, 45, 54, 63, 72, 99, 81, 72, 81, 108, 90, 126, 117, 135, 108, 144, 144] \n",
            "sum of digit of 14! is : [27, 27, 45, 45, 63, 63, 54, 45, 54, 63, 72, 99, 81, 72, 81, 108, 90, 126, 117, 135, 108, 144, 144] \n",
            "sum of digit of 15! is : [27, 27, 45, 45, 63, 63, 54, 45, 54, 63, 72, 99, 81, 72, 81, 108, 90, 126, 117, 135, 108, 144, 144] \n",
            "sum of digit of 16! is : [27, 27, 45, 45, 63, 63, 54, 45, 54, 63, 72, 99, 81, 72, 81, 108, 90, 126, 117, 135, 108, 144, 144] \n",
            "sum of digit of 17! is : [27, 27, 45, 45, 63, 63, 54, 45, 54, 63, 72, 99, 81, 72, 81, 108, 90, 126, 117, 135, 108, 144, 144] \n",
            "sum of digit of 18! is : [27, 27, 45, 45, 63, 63, 54, 45, 54, 63, 72, 99, 81, 72, 81, 108, 90, 126, 117, 135, 108, 144, 144] \n",
            "sum of digit of 19! is : [27, 27, 45, 45, 63, 63, 54, 45, 54, 63, 72, 99, 81, 72, 81, 108, 90, 126, 117, 135, 108, 144, 144] \n",
            "sum of digit of 20! is : [27, 27, 45, 45, 63, 63, 54, 45, 54, 63, 72, 99, 81, 72, 81, 108, 90, 126, 117, 135, 108, 144, 144] \n",
            "sum of digit of 21! is : [27, 27, 45, 45, 63, 63, 54, 45, 54, 63, 72, 99, 81, 72, 81, 108, 90, 126, 117, 135, 108, 144, 144] \n",
            "sum of digit of 22! is : [27, 27, 45, 45, 63, 63, 54, 45, 54, 63, 72, 99, 81, 72, 81, 108, 90, 126, 117, 135, 108, 144, 144] \n",
            "sum of digit of 23! is : [27, 27, 45, 45, 63, 63, 54, 45, 54, 63, 72, 99, 81, 72, 81, 108, 90, 126, 117, 135, 108, 144, 144] \n",
            "sum of digit of 24! is : [27, 27, 45, 45, 63, 63, 54, 45, 54, 63, 72, 99, 81, 72, 81, 108, 90, 126, 117, 135, 108, 144, 144] \n",
            "sum of digit of 25! is : [27, 27, 45, 45, 63, 63, 54, 45, 54, 63, 72, 99, 81, 72, 81, 108, 90, 126, 117, 135, 108, 144, 144] \n",
            "sum of digit of 26! is : [27, 27, 45, 45, 63, 63, 54, 45, 54, 63, 72, 99, 81, 72, 81, 108, 90, 126, 117, 135, 108, 144, 144] \n",
            "sum of digit of 27! is : [27, 27, 45, 45, 63, 63, 54, 45, 54, 63, 72, 99, 81, 72, 81, 108, 90, 126, 117, 135, 108, 144, 144] \n",
            "sum of digit of 28! is : [27, 27, 45, 45, 63, 63, 54, 45, 54, 63, 72, 99, 81, 72, 81, 108, 90, 126, 117, 135, 108, 144, 144] \n",
            "sum of digit of 29! is : [27, 27, 45, 45, 63, 63, 54, 45, 54, 63, 72, 99, 81, 72, 81, 108, 90, 126, 117, 135, 108, 144, 144] \n",
            "sum of digit of 30! is : [27, 27, 45, 45, 63, 63, 54, 45, 54, 63, 72, 99, 81, 72, 81, 108, 90, 126, 117, 135, 108, 144, 144] \n",
            "sum of digit of 31! is : [27, 27, 45, 45, 63, 63, 54, 45, 54, 63, 72, 99, 81, 72, 81, 108, 90, 126, 117, 135, 108, 144, 144] \n",
            "sum of digit of 32! is : [27, 27, 45, 45, 63, 63, 54, 45, 54, 63, 72, 99, 81, 72, 81, 108, 90, 126, 117, 135, 108, 144, 144] \n",
            "sum of digit of 33! is : [27, 27, 45, 45, 63, 63, 54, 45, 54, 63, 72, 99, 81, 72, 81, 108, 90, 126, 117, 135, 108, 144, 144] \n",
            "sum of digit of 34! is : [27, 27, 45, 45, 63, 63, 54, 45, 54, 63, 72, 99, 81, 72, 81, 108, 90, 126, 117, 135, 108, 144, 144] \n"
          ]
        }
      ]
    },
    {
      "cell_type": "code",
      "source": [
        "def longest_w(sentence):\n",
        "\n",
        "    words = [word.strip(\".,!?\") for word in sentence.split()]\n",
        "\n",
        "    longest_word = max(words, key=len)\n",
        "\n",
        "    return longest_word\n",
        "\n",
        "sentence = input(\"Enter a sentence : \")\n",
        "result = longest_w(sentence)\n",
        "\n",
        "print(f\"The longest word in the sentence is : {result}\")\n"
      ],
      "metadata": {
        "colab": {
          "base_uri": "https://localhost:8080/"
        },
        "id": "aY1cQc1qROaM",
        "outputId": "0be943fb-0a74-4a48-9370-f1e6dba11746"
      },
      "execution_count": null,
      "outputs": [
        {
          "output_type": "stream",
          "name": "stdout",
          "text": [
            "Enter a sentence :  let's learn data science together\n",
            "The longest word in the sentence is : together\n"
          ]
        }
      ]
    },
    {
      "cell_type": "code",
      "source": [
        "def count_vowels(word):\n",
        "\n",
        "    return sum(1 for char in word.lower() if char in 'aeiouAEIOU')\n",
        "\n",
        "def filter_vowels(strings, min_vowels=3):\n",
        "\n",
        "    filtered_strings = [word for word in strings if count_vowels(word) > min_vowels]\n",
        "\n",
        "    return filtered_strings\n",
        "\n",
        "string1 = [\"hello\", \"world\", \"python\", \"programming\", \"ai\", \"openai\"]\n",
        "\n",
        "result = filter_vowels(string1)\n",
        "\n",
        "print(f\"Strings with more than three vowels: {result}\")\n"
      ],
      "metadata": {
        "colab": {
          "base_uri": "https://localhost:8080/"
        },
        "id": "nmK8cSzjSIGI",
        "outputId": "6c8e5b21-582d-4673-d04f-709e2cf8d97c"
      },
      "execution_count": null,
      "outputs": [
        {
          "output_type": "stream",
          "name": "stdout",
          "text": [
            "Strings with more than three vowels: ['openai']\n"
          ]
        }
      ]
    },
    {
      "cell_type": "code",
      "source": [
        "def sum_of_digits(number):\n",
        "\n",
        "    return sum(int(digit) for digit in str(number))\n",
        "\n",
        "list1 = [sum_of_digits(num) for num in range(1, 1001)]\n",
        "\n",
        "total_sum = sum(list1)\n",
        "\n",
        "print(f\"The total sum of digits for numbers from 1 to 1000 is: {total_sum}\")\n"
      ],
      "metadata": {
        "colab": {
          "base_uri": "https://localhost:8080/"
        },
        "id": "xGpnaKGmSk0-",
        "outputId": "77e9ce04-06fd-4bd3-a7a5-9992c876d30f"
      },
      "execution_count": null,
      "outputs": [
        {
          "output_type": "stream",
          "name": "stdout",
          "text": [
            "The total sum of digits for numbers from 1 to 1000 is: 13501\n"
          ]
        }
      ]
    },
    {
      "cell_type": "code",
      "source": [
        "def is_prime(num):\n",
        "\n",
        "    if num < 2:\n",
        "\n",
        "        return False\n",
        "\n",
        "    for i in range(2, int(num**0.5) + 1):\n",
        "\n",
        "        if num % i == 0:\n",
        "\n",
        "            return False\n",
        "\n",
        "    return True\n",
        "\n",
        "def is_palindrome(num):\n",
        "\n",
        "    return str(num) == str(num)[::-1]\n",
        "\n",
        "prime_palindromic = [num for num in range(1, 1000) if is_prime(num) and is_palindrome(num)]\n",
        "\n",
        "print(\" palindromic prime numbers up to 1000:\", prime_palindromic)\n"
      ],
      "metadata": {
        "colab": {
          "base_uri": "https://localhost:8080/"
        },
        "id": "6ObZgeZnSyxS",
        "outputId": "f2d42540-3a74-45f3-bb52-17a64fcf5fa9"
      },
      "execution_count": 1,
      "outputs": [
        {
          "output_type": "stream",
          "name": "stdout",
          "text": [
            " palindromic prime numbers up to 1000: [2, 3, 5, 7, 11, 101, 131, 151, 181, 191, 313, 353, 373, 383, 727, 757, 787, 797, 919, 929]\n"
          ]
        }
      ]
    }
  ]
}